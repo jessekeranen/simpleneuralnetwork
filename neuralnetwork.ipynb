{
 "cells": [
  {
   "cell_type": "markdown",
   "source": [
    "This is my first time trying to understand neural networks. I try to start with as simple as possible network. To really gain understanding what happens within algorithm I try to code neural network from scratch using so few libraries as possible. Following libraries are imported to make plotting and matrix operations slightly easier."
   ],
   "metadata": {
    "collapsed": false
   }
  },
  {
   "cell_type": "code",
   "execution_count": 159,
   "outputs": [],
   "source": [
    "import numpy as np\n",
    "import matplotlib.pyplot as plt"
   ],
   "metadata": {
    "collapsed": false
   }
  },
  {
   "cell_type": "markdown",
   "source": [
    "We need some data to train our model. We could find some real data set and have possibly more interesting results. Nevertheless, since this is only the first neural network, I decided to create data my self. Data is follows sin curve with slight randomness added to it. When we have clear pattern in the data it's easier to see whether our code converges to reasonable solution."
   ],
   "metadata": {
    "collapsed": false
   }
  },
  {
   "cell_type": "code",
   "execution_count": 160,
   "outputs": [],
   "source": [
    "hours = [0.50, 0.75, 1.00, 1.25, 1.50, 1.75, 1.75, 2.00, 2.25, 2.50, 2.75, 3.00, 3.25, 3.50, 4.00, 4.25, 4.50, 4.75, 5.00, 5.50]\n",
    "passed = [0, 0, 0, 0, 0, 0, 1, 0, 1, 0, 1, 0, 1, 0, 1, 1, 1, 1, 1, 1]\n",
    "\n",
    "hours = np.reshape(hours, (len(hours), 1))\n",
    "passed = np.reshape(passed, (len(passed), 1))\n",
    "\n",
    "test_y = []\n",
    "test_x = []\n",
    "\n",
    "for i in range(200):\n",
    "    test_y.append(np.sin(i/20) + np.random.normal()/10)\n",
    "    test_x.append(i/20)\n",
    "\n",
    "test_y = np.reshape(test_y, (len(test_y), 1))\n",
    "test_x = np.reshape(test_x, (len(test_x), 1))"
   ],
   "metadata": {
    "collapsed": false
   }
  },
  {
   "cell_type": "markdown",
   "source": [
    "Now that we have data and all the libraries we need, we can start working on our algorithm.\n",
    "\n",
    "![alt text](content/nnw.png \"Neural network\")"
   ],
   "metadata": {
    "collapsed": false
   }
  },
  {
   "cell_type": "code",
   "execution_count": 161,
   "outputs": [],
   "source": [
    "def forward(w1, x, b1):\n",
    "    return np.dot(x, w1) + b1"
   ],
   "metadata": {
    "collapsed": false
   }
  },
  {
   "cell_type": "code",
   "execution_count": 162,
   "outputs": [],
   "source": [
    "def activation_function(Z):\n",
    "    return np.log(1 + np.exp(Z))"
   ],
   "metadata": {
    "collapsed": false
   }
  },
  {
   "cell_type": "code",
   "execution_count": 163,
   "outputs": [],
   "source": [
    "def forward_propagation(w2, X2, b3):\n",
    "    return np.dot(X2, w2.T) + b3"
   ],
   "metadata": {
    "collapsed": false
   }
  },
  {
   "cell_type": "code",
   "execution_count": 164,
   "outputs": [],
   "source": [
    "def loss_function(y, y_pred):\n",
    "    return np.sum((y - y_pred) ** 2)"
   ],
   "metadata": {
    "collapsed": false
   }
  },
  {
   "cell_type": "code",
   "execution_count": 165,
   "outputs": [],
   "source": [
    "def backward_propagation(y, y_pred, X, w1, w2, b, b3, learning_rate):\n",
    "    y_pred = np.reshape(y_pred, (len(y_pred), 1))\n",
    "\n",
    "    dw1 = sum(-2 * (y - y_pred) * w2 * np.exp(forward(w1, X, b)) / (1 + np.exp(forward(w1, X, b))) * X)\n",
    "\n",
    "    db = sum(-2 * (y - y_pred) * w2 * np.exp(forward(w1, X, b)) / (1 + np.exp(forward(w1, X, b))) * 1)\n",
    "\n",
    "    dw2 = sum(-2 * (y - y_pred) * activation_function(forward(w1, X, b)))\n",
    "\n",
    "    db3 =  sum(-2 * (y - y_pred))\n",
    "\n",
    "    w1 = w1 - dw1 * learning_rate\n",
    "    w2 = w2 - dw2 * learning_rate\n",
    "    b = b - db * learning_rate\n",
    "    b3 = b3 - db3 * learning_rate\n",
    "    return w1, w2, b, b3"
   ],
   "metadata": {
    "collapsed": false
   }
  },
  {
   "cell_type": "code",
   "execution_count": 166,
   "outputs": [],
   "source": [
    "def train(y, x, w1, w2, b, b3, iter, learning_rate):\n",
    "    losses = []\n",
    "    y_pred = []\n",
    "    for i in range(iter):\n",
    "        first = forward(w1, x, b)\n",
    "        Z = activation_function(first)\n",
    "        y_pred = forward_propagation(w2, Z, b3)\n",
    "        losses.append(loss_function(x, y_pred))\n",
    "        w1, w2, b, b3 = backward_propagation(y, y_pred, x, w1, w2, b, b3, learning_rate)\n",
    "    return losses, y_pred\n",
    "\n",
    "number_of_nodes = 20\n",
    "\n",
    "iterations = 100000\n",
    "learning_rate = 0.0001\n",
    "weight_1 = np.random.normal(size=number_of_nodes)\n",
    "weight_1 = np.reshape(weight_1, (1, len(weight_1)))\n",
    "weight_2 = np.random.normal(size=number_of_nodes)\n",
    "weight_2 = np.reshape(weight_2, (1, len(weight_2)))\n",
    "bias, bias_3 = [0] * len(weight_1), 0\n",
    "\n",
    "sp, y_pred = train(test_y, test_x, weight_1, weight_2, bias, bias_3, iterations, learning_rate)"
   ],
   "metadata": {
    "collapsed": false
   }
  },
  {
   "cell_type": "code",
   "execution_count": 167,
   "outputs": [],
   "source": [
    "#_pred"
   ],
   "metadata": {
    "collapsed": false
   }
  },
  {
   "cell_type": "code",
   "execution_count": 168,
   "outputs": [],
   "source": [
    "#sp"
   ],
   "metadata": {
    "collapsed": false
   }
  },
  {
   "cell_type": "code",
   "execution_count": 169,
   "outputs": [
    {
     "data": {
      "text/plain": "<matplotlib.collections.PathCollection at 0x7f8a4b1eb100>"
     },
     "execution_count": 169,
     "metadata": {},
     "output_type": "execute_result"
    },
    {
     "data": {
      "text/plain": "<Figure size 640x480 with 1 Axes>",
      "image/png": "[encoded data removed]"
     },
     "metadata": {},
     "output_type": "display_data"
    }
   ],
   "source": [
    "plt.plot(test_x, y_pred)\n",
    "plt.scatter(test_x, test_y)"
   ],
   "metadata": {
    "collapsed": false
   }
  },
  {
   "cell_type": "code",
   "execution_count": 169,
   "outputs": [],
   "source": [],
   "metadata": {
    "collapsed": false
   }
  }
 ],
 "metadata": {
  "kernelspec": {
   "display_name": "Python 3",
   "language": "python",
   "name": "python3"
  },
  "language_info": {
   "codemirror_mode": {
    "name": "ipython",
    "version": 2
   },
   "file_extension": ".py",
   "mimetype": "text/x-python",
   "name": "python",
   "nbconvert_exporter": "python",
   "pygments_lexer": "ipython2",
   "version": "2.7.6"
  }
 },
 "nbformat": 4,
 "nbformat_minor": 0
}
